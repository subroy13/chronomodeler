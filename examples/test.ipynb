{
 "cells": [
  {
   "cell_type": "code",
   "execution_count": 1,
   "metadata": {},
   "outputs": [],
   "source": [
    "import pickle, json"
   ]
  },
  {
   "cell_type": "code",
   "execution_count": 2,
   "metadata": {},
   "outputs": [],
   "source": [
    "with open('./schemas.barfi', 'rb') as f:\n",
    "    data = pickle.load(f)\n",
    "    f.close()"
   ]
  },
  {
   "cell_type": "code",
   "execution_count": 5,
   "metadata": {},
   "outputs": [
    {
     "data": {
      "text/plain": [
       "dict_keys(['nodes', 'connections', 'panning', 'scaling'])"
      ]
     },
     "execution_count": 5,
     "metadata": {},
     "output_type": "execute_result"
    }
   ],
   "source": [
    "data['test'].keys()"
   ]
  },
  {
   "cell_type": "code",
   "execution_count": 8,
   "metadata": {},
   "outputs": [
    {
     "data": {
      "text/plain": [
       "{'x': -471.17769031824764, 'y': -487.2277457241096}"
      ]
     },
     "execution_count": 8,
     "metadata": {},
     "output_type": "execute_result"
    }
   ],
   "source": [
    "data['test']['panning']"
   ]
  },
  {
   "cell_type": "code",
   "execution_count": 9,
   "metadata": {},
   "outputs": [
    {
     "data": {
      "text/plain": [
       "0.7406093071824688"
      ]
     },
     "execution_count": 9,
     "metadata": {},
     "output_type": "execute_result"
    }
   ],
   "source": [
    "data['test']['scaling']"
   ]
  },
  {
   "cell_type": "code",
   "execution_count": 11,
   "metadata": {},
   "outputs": [
    {
     "data": {
      "text/plain": [
       "{'type': 'Independent Variable',\n",
       " 'id': 'node_16865492784730',\n",
       " 'name': 'Independent Variable-1',\n",
       " 'options': [['display-option', 'Independent Variable'],\n",
       "  ['column-option', 'TimeIndex']],\n",
       " 'state': {},\n",
       " 'interfaces': [['Modelling Method',\n",
       "   {'id': 'ni_16866320162871', 'value': None}],\n",
       "  ['Output', {'id': 'ni_16866320162872', 'value': None}]],\n",
       " 'position': {'x': 5.84873977751694, 'y': 136.29706395263588},\n",
       " 'width': 200,\n",
       " 'twoColumn': False,\n",
       " 'customClasses': ''}"
      ]
     },
     "execution_count": 11,
     "metadata": {},
     "output_type": "execute_result"
    }
   ],
   "source": [
    "data['test']['nodes'][0]"
   ]
  },
  {
   "cell_type": "code",
   "execution_count": 12,
   "metadata": {},
   "outputs": [
    {
     "data": {
      "text/plain": [
       "{'type': 'Transformation',\n",
       " 'id': 'node_16865492964002',\n",
       " 'name': 'Transformation-1',\n",
       " 'options': [['display-option', 'Apply Transformation'],\n",
       "  ['method-option', 'Sine'],\n",
       "  ['method-param', 12]],\n",
       " 'state': {},\n",
       " 'interfaces': [['Input 1', {'id': 'ni_16866320162884', 'value': None}],\n",
       "  ['Output 1', {'id': 'ni_16866320162885', 'value': None}]],\n",
       " 'position': {'x': 425.43294490436153, 'y': 106.14128992841357},\n",
       " 'width': 200,\n",
       " 'twoColumn': False,\n",
       " 'customClasses': ''}"
      ]
     },
     "execution_count": 12,
     "metadata": {},
     "output_type": "execute_result"
    }
   ],
   "source": [
    "data['test']['nodes'][1]"
   ]
  },
  {
   "cell_type": "code",
   "execution_count": 14,
   "metadata": {},
   "outputs": [
    {
     "data": {
      "text/plain": [
       "{'id': '168663204503411',\n",
       " 'from': 'ni_16866320162872',\n",
       " 'to': 'ni_16866320162884'}"
      ]
     },
     "execution_count": 14,
     "metadata": {},
     "output_type": "execute_result"
    }
   ],
   "source": [
    "data['test']['connections'][0]"
   ]
  },
  {
   "cell_type": "code",
   "execution_count": null,
   "metadata": {},
   "outputs": [],
   "source": []
  }
 ],
 "metadata": {
  "kernelspec": {
   "display_name": "Python 3",
   "language": "python",
   "name": "python3"
  },
  "language_info": {
   "codemirror_mode": {
    "name": "ipython",
    "version": 3
   },
   "file_extension": ".py",
   "mimetype": "text/x-python",
   "name": "python",
   "nbconvert_exporter": "python",
   "pygments_lexer": "ipython3",
   "version": "3.10.6"
  },
  "orig_nbformat": 4
 },
 "nbformat": 4,
 "nbformat_minor": 2
}
